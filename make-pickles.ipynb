{
 "cells": [
  {
   "cell_type": "code",
   "execution_count": 3,
   "id": "d60f6685-aa83-46c2-8c08-deebc4504bee",
   "metadata": {},
   "outputs": [],
   "source": [
    "import pandas as pd\n",
    "from bs4 import BeautifulSoup"
   ]
  },
  {
   "cell_type": "code",
   "execution_count": null,
   "id": "b7bd041e-ae28-40ec-b079-8e8bc6b3af94",
   "metadata": {},
   "outputs": [],
   "source": [
    "with open(\"SEPTUAGINT.xml\") as f:\n",
    "    sept_soup = BeautifulSoup(f.read())\n",
    "    \n",
    "with open(\n",
    "    \"TISCHENDORF.xml\"\n",
    ") as file:\n",
    "    tisch_soup = BeautifulSoup(file)\n",
    "\n",
    "\n",
    "rm_punct_tbl = str.maketrans(\"\",\"\", ' .·,:;!()«»-·')\n",
    "sept = pd.DataFrame(\n",
    "    [\n",
    "        (\n",
    "            str(e.text).translate(rm_punct_tbl).lower(),\n",
    "            e.get(\"str\", \"G\").removeprefix(\"G\"),\n",
    "            e.find_parent(\"vers\")[\"vnumber\"],\n",
    "            e.find_parent(\"chapter\")[\"cnumber\"],\n",
    "            e.find_parent(\"biblebook\")[\"bnumber\"],\n",
    "            e[\"rmac\"],\n",
    "        )\n",
    "        for e in sept_soup.find_all(\"gr\")\n",
    "    ],\n",
    "    columns=[\"text\", \"str\", \"verse\", \"chapter\", \"book\", \"rmac\"],\n",
    ")\n",
    "tisch = pd.DataFrame(\n",
    "    [\n",
    "        (\n",
    "            str(e.text).translate(rm_punct_tbl).lower(),\n",
    "            e.get(\"str\"),\n",
    "            e.find_parent(\"vers\")[\"vnumber\"],\n",
    "            e.find_parent(\"chapter\")[\"cnumber\"],\n",
    "            e.find_parent(\"biblebook\")[\"bnumber\"],\n",
    "            e[\"rmac\"],\n",
    "            )\n",
    "            for e in tisch_soup.find_all(\"gr\")\n",
    "        ],\n",
    "        columns=[\"text\", \"str\", \"verse\", \"chapter\", \"book\", \"rmac\"],\n",
    ")"
   ]
  },
  {
   "cell_type": "code",
   "execution_count": null,
   "id": "498fc5f5-7ea3-4726-8a08-8ea48e7b0756",
   "metadata": {},
   "outputs": [],
   "source": [
    "sept[\"verse\"] = sept[\"verse\"].astype(int)\n",
    "sept[\"chapter\"] = sept[\"chapter\"].astype(int)\n",
    "sept[\"book\"] = sept[\"book\"].astype(int)\n",
    "# include code to parse rmac?"
   ]
  },
  {
   "cell_type": "code",
   "execution_count": 9,
   "id": "8ca81243",
   "metadata": {},
   "outputs": [],
   "source": [
    "tisch[\"verse\"] = tisch[\"verse\"].astype(int)\n",
    "tisch[\"chapter\"] = tisch[\"chapter\"].astype(int)\n",
    "tisch[\"book\"] = tisch[\"book\"].astype(int)"
   ]
  },
  {
   "cell_type": "code",
   "execution_count": 11,
   "id": "6ce43c49-1ccd-4377-b3b2-c7f707944659",
   "metadata": {},
   "outputs": [],
   "source": [
    "sept.to_pickle(\"sept.pickle\")\n",
    "tisch.to_pickle(\"tisch.pickle\")"
   ]
  },
  {
   "cell_type": "markdown",
   "id": "4bf93387",
   "metadata": {},
   "source": [
    "## Reconciling missing strongs"
   ]
  }
 ],
 "metadata": {
  "kernelspec": {
   "display_name": "proj1 (3.13.7)",
   "language": "python",
   "name": "python3"
  },
  "language_info": {
   "codemirror_mode": {
    "name": "ipython",
    "version": 3
   },
   "file_extension": ".py",
   "mimetype": "text/x-python",
   "name": "python",
   "nbconvert_exporter": "python",
   "pygments_lexer": "ipython3",
   "version": "3.13.7"
  }
 },
 "nbformat": 4,
 "nbformat_minor": 5
}
