{
 "cells": [
  {
   "cell_type": "code",
   "execution_count": 1,
   "id": "d60f6685-aa83-46c2-8c08-deebc4504bee",
   "metadata": {},
   "outputs": [],
   "source": [
    "import pandas as pd\n",
    "from bs4 import BeautifulSoup"
   ]
  },
  {
   "cell_type": "code",
   "execution_count": 2,
   "id": "b7bd041e-ae28-40ec-b079-8e8bc6b3af94",
   "metadata": {},
   "outputs": [],
   "source": [
    "with open(\"SF_2009-01-20_GRC_ALXX_(THE ANALYTIC SEPTUAGINT).xml\") as f:\n",
    "    sept_soup = BeautifulSoup(f.read())\n",
    "sept = pd.DataFrame(\n",
    "    [\n",
    "        (\n",
    "            str(e.text),\n",
    "            e.get(\"str\"),\n",
    "            e.find_parent(\"vers\")[\"vnumber\"],\n",
    "            e.find_parent(\"chapter\")[\"cnumber\"],\n",
    "            e.find_parent(\"biblebook\")[\"bnumber\"],\n",
    "            e['rmac']\n",
    "        )\n",
    "        for e in sept_soup.find_all(\"gr\")\n",
    "    ],\n",
    "    columns=[\"text\", \"str\", \"verse\", \"chapter\", \"book\", 'rmac'],\n",
    ")"
   ]
  },
  {
   "cell_type": "code",
   "execution_count": 3,
   "id": "24db2cfd-50a0-4344-a4a8-07987e0288f8",
   "metadata": {},
   "outputs": [],
   "source": [
    "sept = sept[~pd.isna(sept['str'])]\n",
    "assert pd.isna(sept['str']).sum() == 0"
   ]
  },
  {
   "cell_type": "code",
   "execution_count": 4,
   "id": "498fc5f5-7ea3-4726-8a08-8ea48e7b0756",
   "metadata": {},
   "outputs": [],
   "source": [
    "sept['str'] = sept['str'].str.removeprefix('G').astype(int)\n",
    "sept['verse'] = sept['verse'].astype(int)\n",
    "sept['chapter'] = sept['chapter'].astype(int)\n",
    "sept['book'] = sept['book'].astype(int)\n",
    "# include code to parse rmac?"
   ]
  },
  {
   "cell_type": "code",
   "execution_count": 5,
   "id": "6ce43c49-1ccd-4377-b3b2-c7f707944659",
   "metadata": {},
   "outputs": [],
   "source": [
    "with open('pickles/sept.pickle', 'wb') as f:\n",
    "    sept.to_pickle(f)"
   ]
  }
 ],
 "metadata": {
  "kernelspec": {
   "display_name": "otr-env",
   "language": "python",
   "name": "otr-env"
  },
  "language_info": {
   "codemirror_mode": {
    "name": "ipython",
    "version": 3
   },
   "file_extension": ".py",
   "mimetype": "text/x-python",
   "name": "python",
   "nbconvert_exporter": "python",
   "pygments_lexer": "ipython3",
   "version": "3.13.5"
  }
 },
 "nbformat": 4,
 "nbformat_minor": 5
}
